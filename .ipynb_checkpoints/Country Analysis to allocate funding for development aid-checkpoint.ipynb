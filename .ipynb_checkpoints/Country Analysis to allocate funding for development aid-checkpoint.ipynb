{
 "cells": [
  {
   "cell_type": "code",
   "execution_count": 1,
   "id": "27569d9d",
   "metadata": {},
   "outputs": [],
   "source": [
    "import os\n",
    "import numpy as np\n",
    "import pandas as pd\n",
    "import seaborn as sns\n",
    "import matplotlib.pyplot as plt\n",
    "%matplotlib inline\n",
    "\n",
    "# scaling \n",
    "from sklearn.preprocessing import MinMaxScaler\n",
    "from sklearn.preprocessing import StandardScaler\n",
    "\n",
    "# kmeans clustering \n",
    "from sklearn.cluster import KMeans\n",
    "from sklearn.metrics import silhouette_score\n",
    "\n",
    "\n",
    "# multivariate linear regression\n",
    "from sklearn import linear_model\n",
    "# Hierarchical clustering\n",
    "import scipy.cluster.hierarchy as hcluster\n",
    "from sklearn.cluster import AgglomerativeClustering"
   ]
  },
  {
   "cell_type": "code",
   "execution_count": 2,
   "id": "2975bfa2",
   "metadata": {},
   "outputs": [
    {
     "data": {
      "text/html": [
       "<div>\n",
       "<style scoped>\n",
       "    .dataframe tbody tr th:only-of-type {\n",
       "        vertical-align: middle;\n",
       "    }\n",
       "\n",
       "    .dataframe tbody tr th {\n",
       "        vertical-align: top;\n",
       "    }\n",
       "\n",
       "    .dataframe thead th {\n",
       "        text-align: right;\n",
       "    }\n",
       "</style>\n",
       "<table border=\"1\" class=\"dataframe\">\n",
       "  <thead>\n",
       "    <tr style=\"text-align: right;\">\n",
       "      <th></th>\n",
       "      <th>country</th>\n",
       "      <th>child_mort</th>\n",
       "      <th>exports</th>\n",
       "      <th>health</th>\n",
       "      <th>imports</th>\n",
       "      <th>income</th>\n",
       "      <th>inflation</th>\n",
       "      <th>life_expec</th>\n",
       "      <th>total_fer</th>\n",
       "      <th>gdpp</th>\n",
       "    </tr>\n",
       "  </thead>\n",
       "  <tbody>\n",
       "    <tr>\n",
       "      <th>0</th>\n",
       "      <td>Afghanistan</td>\n",
       "      <td>90.2</td>\n",
       "      <td>10.0</td>\n",
       "      <td>7.58</td>\n",
       "      <td>44.9</td>\n",
       "      <td>1610</td>\n",
       "      <td>9.44</td>\n",
       "      <td>56.2</td>\n",
       "      <td>5.82</td>\n",
       "      <td>553</td>\n",
       "    </tr>\n",
       "    <tr>\n",
       "      <th>1</th>\n",
       "      <td>Albania</td>\n",
       "      <td>16.6</td>\n",
       "      <td>28.0</td>\n",
       "      <td>6.55</td>\n",
       "      <td>48.6</td>\n",
       "      <td>9930</td>\n",
       "      <td>4.49</td>\n",
       "      <td>76.3</td>\n",
       "      <td>1.65</td>\n",
       "      <td>4090</td>\n",
       "    </tr>\n",
       "    <tr>\n",
       "      <th>2</th>\n",
       "      <td>Algeria</td>\n",
       "      <td>27.3</td>\n",
       "      <td>38.4</td>\n",
       "      <td>4.17</td>\n",
       "      <td>31.4</td>\n",
       "      <td>12900</td>\n",
       "      <td>16.10</td>\n",
       "      <td>76.5</td>\n",
       "      <td>2.89</td>\n",
       "      <td>4460</td>\n",
       "    </tr>\n",
       "    <tr>\n",
       "      <th>3</th>\n",
       "      <td>Angola</td>\n",
       "      <td>119.0</td>\n",
       "      <td>62.3</td>\n",
       "      <td>2.85</td>\n",
       "      <td>42.9</td>\n",
       "      <td>5900</td>\n",
       "      <td>22.40</td>\n",
       "      <td>60.1</td>\n",
       "      <td>6.16</td>\n",
       "      <td>3530</td>\n",
       "    </tr>\n",
       "    <tr>\n",
       "      <th>4</th>\n",
       "      <td>Antigua and Barbuda</td>\n",
       "      <td>10.3</td>\n",
       "      <td>45.5</td>\n",
       "      <td>6.03</td>\n",
       "      <td>58.9</td>\n",
       "      <td>19100</td>\n",
       "      <td>1.44</td>\n",
       "      <td>76.8</td>\n",
       "      <td>2.13</td>\n",
       "      <td>12200</td>\n",
       "    </tr>\n",
       "  </tbody>\n",
       "</table>\n",
       "</div>"
      ],
      "text/plain": [
       "               country  child_mort  exports  health  imports  income  \\\n",
       "0          Afghanistan        90.2     10.0    7.58     44.9    1610   \n",
       "1              Albania        16.6     28.0    6.55     48.6    9930   \n",
       "2              Algeria        27.3     38.4    4.17     31.4   12900   \n",
       "3               Angola       119.0     62.3    2.85     42.9    5900   \n",
       "4  Antigua and Barbuda        10.3     45.5    6.03     58.9   19100   \n",
       "\n",
       "   inflation  life_expec  total_fer   gdpp  \n",
       "0       9.44        56.2       5.82    553  \n",
       "1       4.49        76.3       1.65   4090  \n",
       "2      16.10        76.5       2.89   4460  \n",
       "3      22.40        60.1       6.16   3530  \n",
       "4       1.44        76.8       2.13  12200  "
      ]
     },
     "execution_count": 2,
     "metadata": {},
     "output_type": "execute_result"
    }
   ],
   "source": [
    "df1 = pd.read_csv(\"Country-data.csv\")\n",
    "\n",
    "df1.head()\n"
   ]
  },
  {
   "cell_type": "markdown",
   "id": "d0f8e22c",
   "metadata": {},
   "source": [
    "### Data description"
   ]
  },
  {
   "cell_type": "markdown",
   "id": "e1fbc2ec",
   "metadata": {},
   "source": [
    "country: Name of the country\n",
    "\n",
    "child_mort: Death of children under 5 years of age per 1000 live births\n",
    "\n",
    "exports: Exports of goods and services per capita. Given as %age of the GDP per capita\n",
    "\n",
    "health: Total health spending per capita. Given as %age of GDP per capita\n",
    "\n",
    "imports: Imports of goods and services per capita. Given as %age of the GDP per capita\n",
    "\n",
    "Income: Net income per person\n",
    "\n",
    "Inflation: The measurement of the annual growth rate of the Total GDP\n",
    "\n",
    "life_expec: The average number of years a new born child would live if the current mortality patterns are to remain the same\n",
    "\n",
    "total_fer: The number of children that would be born to each woman if the current age-fertility rates remain the same\n",
    "\n",
    "gdpp: The GDP per capita. Calculated as the Total GDP divided by the total population"
   ]
  },
  {
   "cell_type": "code",
   "execution_count": 3,
   "id": "3bde2cc2",
   "metadata": {},
   "outputs": [
    {
     "data": {
      "text/plain": [
       "(167, 10)"
      ]
     },
     "execution_count": 3,
     "metadata": {},
     "output_type": "execute_result"
    }
   ],
   "source": [
    "df1.shape"
   ]
  },
  {
   "cell_type": "code",
   "execution_count": 4,
   "id": "5b8a53aa",
   "metadata": {},
   "outputs": [
    {
     "data": {
      "text/plain": [
       "country       0\n",
       "child_mort    0\n",
       "exports       0\n",
       "health        0\n",
       "imports       0\n",
       "income        0\n",
       "inflation     0\n",
       "life_expec    0\n",
       "total_fer     0\n",
       "gdpp          0\n",
       "dtype: int64"
      ]
     },
     "execution_count": 4,
     "metadata": {},
     "output_type": "execute_result"
    }
   ],
   "source": [
    "df1.isnull().sum()"
   ]
  },
  {
   "cell_type": "code",
   "execution_count": 5,
   "id": "70a35706",
   "metadata": {},
   "outputs": [
    {
     "data": {
      "text/plain": [
       "'0'"
      ]
     },
     "execution_count": 5,
     "metadata": {},
     "output_type": "execute_result"
    }
   ],
   "source": [
    "# are there duplicate values?\n",
    "format(len(df1[df1.duplicated()]))"
   ]
  },
  {
   "cell_type": "code",
   "execution_count": 6,
   "id": "c88b537c",
   "metadata": {},
   "outputs": [
    {
     "data": {
      "text/html": [
       "<div>\n",
       "<style scoped>\n",
       "    .dataframe tbody tr th:only-of-type {\n",
       "        vertical-align: middle;\n",
       "    }\n",
       "\n",
       "    .dataframe tbody tr th {\n",
       "        vertical-align: top;\n",
       "    }\n",
       "\n",
       "    .dataframe thead th {\n",
       "        text-align: right;\n",
       "    }\n",
       "</style>\n",
       "<table border=\"1\" class=\"dataframe\">\n",
       "  <thead>\n",
       "    <tr style=\"text-align: right;\">\n",
       "      <th></th>\n",
       "      <th>child_mort</th>\n",
       "      <th>exports</th>\n",
       "      <th>health</th>\n",
       "      <th>imports</th>\n",
       "      <th>income</th>\n",
       "      <th>inflation</th>\n",
       "      <th>life_expec</th>\n",
       "      <th>total_fer</th>\n",
       "      <th>gdpp</th>\n",
       "    </tr>\n",
       "  </thead>\n",
       "  <tbody>\n",
       "    <tr>\n",
       "      <th>count</th>\n",
       "      <td>167.000000</td>\n",
       "      <td>167.000000</td>\n",
       "      <td>167.000000</td>\n",
       "      <td>167.000000</td>\n",
       "      <td>167.000000</td>\n",
       "      <td>167.000000</td>\n",
       "      <td>167.000000</td>\n",
       "      <td>167.000000</td>\n",
       "      <td>167.000000</td>\n",
       "    </tr>\n",
       "    <tr>\n",
       "      <th>mean</th>\n",
       "      <td>38.270060</td>\n",
       "      <td>41.108976</td>\n",
       "      <td>6.815689</td>\n",
       "      <td>46.890215</td>\n",
       "      <td>17144.688623</td>\n",
       "      <td>7.781832</td>\n",
       "      <td>70.555689</td>\n",
       "      <td>2.947964</td>\n",
       "      <td>12964.155689</td>\n",
       "    </tr>\n",
       "    <tr>\n",
       "      <th>std</th>\n",
       "      <td>40.328931</td>\n",
       "      <td>27.412010</td>\n",
       "      <td>2.746837</td>\n",
       "      <td>24.209589</td>\n",
       "      <td>19278.067698</td>\n",
       "      <td>10.570704</td>\n",
       "      <td>8.893172</td>\n",
       "      <td>1.513848</td>\n",
       "      <td>18328.704809</td>\n",
       "    </tr>\n",
       "    <tr>\n",
       "      <th>min</th>\n",
       "      <td>2.600000</td>\n",
       "      <td>0.109000</td>\n",
       "      <td>1.810000</td>\n",
       "      <td>0.065900</td>\n",
       "      <td>609.000000</td>\n",
       "      <td>-4.210000</td>\n",
       "      <td>32.100000</td>\n",
       "      <td>1.150000</td>\n",
       "      <td>231.000000</td>\n",
       "    </tr>\n",
       "    <tr>\n",
       "      <th>25%</th>\n",
       "      <td>8.250000</td>\n",
       "      <td>23.800000</td>\n",
       "      <td>4.920000</td>\n",
       "      <td>30.200000</td>\n",
       "      <td>3355.000000</td>\n",
       "      <td>1.810000</td>\n",
       "      <td>65.300000</td>\n",
       "      <td>1.795000</td>\n",
       "      <td>1330.000000</td>\n",
       "    </tr>\n",
       "    <tr>\n",
       "      <th>50%</th>\n",
       "      <td>19.300000</td>\n",
       "      <td>35.000000</td>\n",
       "      <td>6.320000</td>\n",
       "      <td>43.300000</td>\n",
       "      <td>9960.000000</td>\n",
       "      <td>5.390000</td>\n",
       "      <td>73.100000</td>\n",
       "      <td>2.410000</td>\n",
       "      <td>4660.000000</td>\n",
       "    </tr>\n",
       "    <tr>\n",
       "      <th>75%</th>\n",
       "      <td>62.100000</td>\n",
       "      <td>51.350000</td>\n",
       "      <td>8.600000</td>\n",
       "      <td>58.750000</td>\n",
       "      <td>22800.000000</td>\n",
       "      <td>10.750000</td>\n",
       "      <td>76.800000</td>\n",
       "      <td>3.880000</td>\n",
       "      <td>14050.000000</td>\n",
       "    </tr>\n",
       "    <tr>\n",
       "      <th>90%</th>\n",
       "      <td>100.220000</td>\n",
       "      <td>70.800000</td>\n",
       "      <td>10.940000</td>\n",
       "      <td>75.420000</td>\n",
       "      <td>41220.000000</td>\n",
       "      <td>16.640000</td>\n",
       "      <td>80.400000</td>\n",
       "      <td>5.322000</td>\n",
       "      <td>41840.000000</td>\n",
       "    </tr>\n",
       "    <tr>\n",
       "      <th>95%</th>\n",
       "      <td>116.000000</td>\n",
       "      <td>80.570000</td>\n",
       "      <td>11.570000</td>\n",
       "      <td>81.140000</td>\n",
       "      <td>48290.000000</td>\n",
       "      <td>20.870000</td>\n",
       "      <td>81.400000</td>\n",
       "      <td>5.861000</td>\n",
       "      <td>48610.000000</td>\n",
       "    </tr>\n",
       "    <tr>\n",
       "      <th>99%</th>\n",
       "      <td>153.400000</td>\n",
       "      <td>160.480000</td>\n",
       "      <td>13.474000</td>\n",
       "      <td>146.080000</td>\n",
       "      <td>84374.000000</td>\n",
       "      <td>41.478000</td>\n",
       "      <td>82.370000</td>\n",
       "      <td>6.563600</td>\n",
       "      <td>79088.000000</td>\n",
       "    </tr>\n",
       "    <tr>\n",
       "      <th>max</th>\n",
       "      <td>208.000000</td>\n",
       "      <td>200.000000</td>\n",
       "      <td>17.900000</td>\n",
       "      <td>174.000000</td>\n",
       "      <td>125000.000000</td>\n",
       "      <td>104.000000</td>\n",
       "      <td>82.800000</td>\n",
       "      <td>7.490000</td>\n",
       "      <td>105000.000000</td>\n",
       "    </tr>\n",
       "  </tbody>\n",
       "</table>\n",
       "</div>"
      ],
      "text/plain": [
       "       child_mort     exports      health     imports         income  \\\n",
       "count  167.000000  167.000000  167.000000  167.000000     167.000000   \n",
       "mean    38.270060   41.108976    6.815689   46.890215   17144.688623   \n",
       "std     40.328931   27.412010    2.746837   24.209589   19278.067698   \n",
       "min      2.600000    0.109000    1.810000    0.065900     609.000000   \n",
       "25%      8.250000   23.800000    4.920000   30.200000    3355.000000   \n",
       "50%     19.300000   35.000000    6.320000   43.300000    9960.000000   \n",
       "75%     62.100000   51.350000    8.600000   58.750000   22800.000000   \n",
       "90%    100.220000   70.800000   10.940000   75.420000   41220.000000   \n",
       "95%    116.000000   80.570000   11.570000   81.140000   48290.000000   \n",
       "99%    153.400000  160.480000   13.474000  146.080000   84374.000000   \n",
       "max    208.000000  200.000000   17.900000  174.000000  125000.000000   \n",
       "\n",
       "        inflation  life_expec   total_fer           gdpp  \n",
       "count  167.000000  167.000000  167.000000     167.000000  \n",
       "mean     7.781832   70.555689    2.947964   12964.155689  \n",
       "std     10.570704    8.893172    1.513848   18328.704809  \n",
       "min     -4.210000   32.100000    1.150000     231.000000  \n",
       "25%      1.810000   65.300000    1.795000    1330.000000  \n",
       "50%      5.390000   73.100000    2.410000    4660.000000  \n",
       "75%     10.750000   76.800000    3.880000   14050.000000  \n",
       "90%     16.640000   80.400000    5.322000   41840.000000  \n",
       "95%     20.870000   81.400000    5.861000   48610.000000  \n",
       "99%     41.478000   82.370000    6.563600   79088.000000  \n",
       "max    104.000000   82.800000    7.490000  105000.000000  "
      ]
     },
     "execution_count": 6,
     "metadata": {},
     "output_type": "execute_result"
    }
   ],
   "source": [
    "# standard statistical measures\n",
    "df1.describe(percentiles = [.25, .5, .75, .90 ,.95, .99])"
   ]
  },
  {
   "cell_type": "code",
   "execution_count": 7,
   "id": "9870a320",
   "metadata": {},
   "outputs": [
    {
     "data": {
      "text/plain": [
       "167"
      ]
     },
     "execution_count": 7,
     "metadata": {},
     "output_type": "execute_result"
    }
   ],
   "source": [
    "#number of unique countries\n",
    "df1['country'].nunique()"
   ]
  },
  {
   "cell_type": "code",
   "execution_count": 8,
   "id": "9967296e",
   "metadata": {},
   "outputs": [],
   "source": [
    "data=df1.drop(['country'],axis=1)"
   ]
  },
  {
   "cell_type": "markdown",
   "id": "6d664f9f",
   "metadata": {},
   "source": [
    "# Data Exploration"
   ]
  },
  {
   "cell_type": "markdown",
   "id": "ddce4143",
   "metadata": {},
   "source": [
    "## Data distribution "
   ]
  },
  {
   "cell_type": "code",
   "execution_count": 9,
   "id": "70dbdfcc",
   "metadata": {},
   "outputs": [
    {
     "data": {
      "image/png": "[encoded data removed]",
      "text/plain": [
       "<Figure size 864x360 with 1 Axes>"
      ]
     },
     "metadata": {
      "needs_background": "light"
     },
     "output_type": "display_data"
    }
   ],
   "source": [
    "plt.figure(figsize=(12,5))\n",
    "plt.title(\"Child Mortality: Death of children under 5 years of age per 1000 live births\")\n",
    "ax = sns.histplot(data[\"child_mort\"])"
   ]
  },
  {
   "cell_type": "code",
   "execution_count": 10,
   "id": "b7a5a026",
   "metadata": {},
   "outputs": [
    {
     "data": {
      "image/png": "[encoded data removed]",
      "text/plain": [
       "<Figure size 864x360 with 1 Axes>"
      ]
     },
     "metadata": {
      "needs_background": "light"
     },
     "output_type": "display_data"
    }
   ],
   "source": [
    "plt.figure(figsize=(12,5))\n",
    "plt.title(\"Exports: Exports of goods and services per capita. Given as %age of the GDP per capita\")\n",
    "ax = sns.histplot(data[\"exports\"])"
   ]
  },
  {
   "cell_type": "code",
   "execution_count": 11,
   "id": "648687c7",
   "metadata": {},
   "outputs": [
    {
     "data": {
      "image/png": "[encoded data removed]",
      "text/plain": [
       "<Figure size 864x360 with 1 Axes>"
      ]
     },
     "metadata": {
      "needs_background": "light"
     },
     "output_type": "display_data"
    }
   ],
   "source": [
    "plt.figure(figsize=(12,5))\n",
    "plt.title(\"Imports: Imports of goods and services per capita. Given as %age of the GDP per capita\")\n",
    "ax = sns.histplot(data[\"imports\"])"
   ]
  },
  {
   "cell_type": "code",
   "execution_count": 12,
   "id": "8021b866",
   "metadata": {},
   "outputs": [
    {
     "data": {
      "image/png": "[encoded data removed]",
      "text/plain": [
       "<Figure size 864x360 with 1 Axes>"
      ]
     },
     "metadata": {
      "needs_background": "light"
     },
     "output_type": "display_data"
    }
   ],
   "source": [
    "plt.figure(figsize=(12,5))\n",
    "plt.title(\"Health: Total health spending per capita. Given as %age of GDP per capita\")\n",
    "ax = sns.histplot(data[\"health\"])"
   ]
  },
  {
   "cell_type": "code",
   "execution_count": 13,
   "id": "bb0f5b06",
   "metadata": {},
   "outputs": [
    {
     "data": {
      "image/png": "[encoded data removed]",
      "text/plain": [
       "<Figure size 864x360 with 1 Axes>"
      ]
     },
     "metadata": {
      "needs_background": "light"
     },
     "output_type": "display_data"
    }
   ],
   "source": [
    "plt.figure(figsize=(12,5))\n",
    "plt.title(\"Income: Net income per person\")\n",
    "ax = sns.histplot(data[\"income\"])"
   ]
  },
  {
   "cell_type": "code",
   "execution_count": 14,
   "id": "ed66b3c0",
   "metadata": {},
   "outputs": [
    {
     "data": {
      "image/png": "[encoded data removed]",
      "text/plain": [
       "<Figure size 864x360 with 1 Axes>"
      ]
     },
     "metadata": {
      "needs_background": "light"
     },
     "output_type": "display_data"
    }
   ],
   "source": [
    "plt.figure(figsize=(12,5))\n",
    "plt.title(\"Inflation: The measurement of the annual growth rate of the Total GDP\")\n",
    "ax = sns.histplot(data[\"inflation\"])"
   ]
  },
  {
   "cell_type": "code",
   "execution_count": 15,
   "id": "5c77530a",
   "metadata": {},
   "outputs": [
    {
     "data": {
      "image/png": "[encoded data removed]",
      "text/plain": [
       "<Figure size 864x360 with 1 Axes>"
      ]
     },
     "metadata": {
      "needs_background": "light"
     },
     "output_type": "display_data"
    }
   ],
   "source": [
    "plt.figure(figsize=(12,5))\n",
    "plt.title(\"Life expectancy: The average number of years a new born child would live if the current mortality patterns are to remain the same\")\n",
    "ax = sns.histplot(data[\"life_expec\"])"
   ]
  },
  {
   "cell_type": "code",
   "execution_count": 16,
   "id": "fae5ab35",
   "metadata": {},
   "outputs": [
    {
     "data": {
      "image/png": "[encoded data removed]",
      "text/plain": [
       "<Figure size 864x360 with 1 Axes>"
      ]
     },
     "metadata": {
      "needs_background": "light"
     },
     "output_type": "display_data"
    }
   ],
   "source": [
    "plt.figure(figsize=(12,5))\n",
    "plt.title(\"New Population(?) :The number of children that would be born to each woman if the current age-fertility rates remain the same.\")\n",
    "ax = sns.histplot(data[\"total_fer\"])"
   ]
  },
  {
   "cell_type": "code",
   "execution_count": 17,
   "id": "9630bd31",
   "metadata": {},
   "outputs": [
    {
     "data": {
      "image/png": "[encoded data removed]",
      "text/plain": [
       "<Figure size 864x360 with 1 Axes>"
      ]
     },
     "metadata": {
      "needs_background": "light"
     },
     "output_type": "display_data"
    }
   ],
   "source": [
    "plt.figure(figsize=(12,5))\n",
    "plt.title(\"GDP: The GDP per capita. Calculated as the Total GDP divided by the total population.\")\n",
    "ax = sns.histplot(data[\"gdpp\"])"
   ]
  },
  {
   "cell_type": "code",
   "execution_count": 18,
   "id": "479ec7b3",
   "metadata": {},
   "outputs": [
    {
     "data": {
      "image/png": "[encoded data removed]",
      "text/plain": [
       "<Figure size 1080x1080 with 9 Axes>"
      ]
     },
     "metadata": {
      "needs_background": "light"
     },
     "output_type": "display_data"
    }
   ],
   "source": [
    "#box plot\n",
    "fig, ax = plt.subplots(3, 3, figsize=(15, 15))\n",
    "bp=sns.boxplot(y=data.child_mort,ax=ax[0, 0])\n",
    "ax[0, 0].set_title('Child Mortality Rate')\n",
    "bp=sns.boxplot(y=data.health,ax=ax[0, 1])\n",
    "ax[0, 1].set_title('Health')\n",
    "bp=sns.boxplot(y=data.income,ax=ax[0, 2])\n",
    "ax[0,2].set_title('Income per Person')\n",
    "bp=sns.boxplot(y=data.inflation,ax=ax[1, 0])\n",
    "ax[1,0].set_title('Inflation')\n",
    "bp=sns.boxplot(y=data.imports,ax=ax[1,1])\n",
    "ax[1, 1].set_title('Imports')\n",
    "s=sns.boxplot(y=data.life_expec,ax=ax[1, 2])\n",
    "ax[1,2].set_title('Life Expectancy')\n",
    "s=sns.boxplot(y=data.total_fer,ax=ax[2,0])\n",
    "ax[2,0].set_title('Total Fertility')\n",
    "s=sns.boxplot(y=data.gdpp,ax=ax[2, 1])\n",
    "ax[2,1].set_title('GDP per Capita')\n",
    "s=sns.boxplot(y=data.exports,ax=ax[2,2])\n",
    "ax[2,2].set_title('Exports')\n",
    "plt.show()"
   ]
  },
  {
   "cell_type": "markdown",
   "id": "aae01ade",
   "metadata": {},
   "source": [
    "## Findings\n"
   ]
  },
  {
   "cell_type": "markdown",
   "id": "746159fb",
   "metadata": {},
   "source": [
    "small dataset\n",
    "\n",
    "no missing values\n",
    "\n",
    "no duplicate values\n",
    "\n",
    "some outliers and skewed distribution"
   ]
  },
  {
   "cell_type": "markdown",
   "id": "9dc35048",
   "metadata": {},
   "source": [
    "Looking at the data distribution we can see that there are so many outliers in our dataset.Most of the outliers are in income per person,GDP per captia and Exports.\n",
    "\n",
    "For the purpose of this analysis, outliers will not be removed since they could be considered very informative in that they could point out countries that are in critical condition and in need of help and also our dataset is very small (167 rows only).\n"
   ]
  },
  {
   "cell_type": "markdown",
   "id": "88910d61",
   "metadata": {},
   "source": [
    "## Correlation"
   ]
  },
  {
   "cell_type": "code",
   "execution_count": 19,
   "id": "8d81d03c",
   "metadata": {},
   "outputs": [
    {
     "data": {
      "text/plain": [
       "<AxesSubplot:>"
      ]
     },
     "execution_count": 19,
     "metadata": {},
     "output_type": "execute_result"
    },
    {
     "data": {
      "image/png": "[encoded data removed]",
      "text/plain": [
       "<Figure size 720x576 with 2 Axes>"
      ]
     },
     "metadata": {
      "needs_background": "light"
     },
     "output_type": "display_data"
    }
   ],
   "source": [
    "plt.figure(figsize=(10,8))\n",
    "corr_matrix=data.corr()\n",
    "sns.heatmap(corr_matrix,annot=True)"
   ]
  },
  {
   "cell_type": "markdown",
   "id": "e9a30647",
   "metadata": {},
   "source": [
    "From above we can conclude that:\n",
    "\n",
    "gdpp and income,imports and exports,child_mort and total_fert are highly positive correlated\n",
    "whereas life_expec and child_mort are highly negative correlated"
   ]
  },
  {
   "cell_type": "markdown",
   "id": "69076c15",
   "metadata": {},
   "source": [
    "# Scaling Data"
   ]
  },
  {
   "cell_type": "markdown",
   "id": "059c86c0",
   "metadata": {},
   "source": [
    "Our dataset is not scaled some values are much bigger than others,if we will not scale our data our model will not going to perform well.So now we are are going to scale our data for this we are going to use a StandardScaler library\n",
    "StandardScaler transform the data such the the mean will be 0 and variance will be 1."
   ]
  },
  {
   "cell_type": "code",
   "execution_count": 20,
   "id": "ac0af0ee",
   "metadata": {},
   "outputs": [],
   "source": [
    "scaling=StandardScaler()\n",
    "scaled=scaling.fit_transform(data)"
   ]
  },
  {
   "cell_type": "code",
   "execution_count": 21,
   "id": "5fed669d",
   "metadata": {},
   "outputs": [
    {
     "data": {
      "text/html": [
       "<div>\n",
       "<style scoped>\n",
       "    .dataframe tbody tr th:only-of-type {\n",
       "        vertical-align: middle;\n",
       "    }\n",
       "\n",
       "    .dataframe tbody tr th {\n",
       "        vertical-align: top;\n",
       "    }\n",
       "\n",
       "    .dataframe thead th {\n",
       "        text-align: right;\n",
       "    }\n",
       "</style>\n",
       "<table border=\"1\" class=\"dataframe\">\n",
       "  <thead>\n",
       "    <tr style=\"text-align: right;\">\n",
       "      <th></th>\n",
       "      <th>child_mort</th>\n",
       "      <th>exports</th>\n",
       "      <th>health</th>\n",
       "      <th>imports</th>\n",
       "      <th>income</th>\n",
       "      <th>inflation</th>\n",
       "      <th>life_expec</th>\n",
       "      <th>total_fer</th>\n",
       "      <th>gdpp</th>\n",
       "    </tr>\n",
       "  </thead>\n",
       "  <tbody>\n",
       "    <tr>\n",
       "      <th>0</th>\n",
       "      <td>1.291532</td>\n",
       "      <td>-1.138280</td>\n",
       "      <td>0.279088</td>\n",
       "      <td>-0.082455</td>\n",
       "      <td>-0.808245</td>\n",
       "      <td>0.157336</td>\n",
       "      <td>-1.619092</td>\n",
       "      <td>1.902882</td>\n",
       "      <td>-0.679180</td>\n",
       "    </tr>\n",
       "    <tr>\n",
       "      <th>1</th>\n",
       "      <td>-0.538949</td>\n",
       "      <td>-0.479658</td>\n",
       "      <td>-0.097016</td>\n",
       "      <td>0.070837</td>\n",
       "      <td>-0.375369</td>\n",
       "      <td>-0.312347</td>\n",
       "      <td>0.647866</td>\n",
       "      <td>-0.859973</td>\n",
       "      <td>-0.485623</td>\n",
       "    </tr>\n",
       "    <tr>\n",
       "      <th>2</th>\n",
       "      <td>-0.272833</td>\n",
       "      <td>-0.099122</td>\n",
       "      <td>-0.966073</td>\n",
       "      <td>-0.641762</td>\n",
       "      <td>-0.220844</td>\n",
       "      <td>0.789274</td>\n",
       "      <td>0.670423</td>\n",
       "      <td>-0.038404</td>\n",
       "      <td>-0.465376</td>\n",
       "    </tr>\n",
       "    <tr>\n",
       "      <th>3</th>\n",
       "      <td>2.007808</td>\n",
       "      <td>0.775381</td>\n",
       "      <td>-1.448071</td>\n",
       "      <td>-0.165315</td>\n",
       "      <td>-0.585043</td>\n",
       "      <td>1.387054</td>\n",
       "      <td>-1.179234</td>\n",
       "      <td>2.128151</td>\n",
       "      <td>-0.516268</td>\n",
       "    </tr>\n",
       "    <tr>\n",
       "      <th>4</th>\n",
       "      <td>-0.695634</td>\n",
       "      <td>0.160668</td>\n",
       "      <td>-0.286894</td>\n",
       "      <td>0.497568</td>\n",
       "      <td>0.101732</td>\n",
       "      <td>-0.601749</td>\n",
       "      <td>0.704258</td>\n",
       "      <td>-0.541946</td>\n",
       "      <td>-0.041817</td>\n",
       "    </tr>\n",
       "  </tbody>\n",
       "</table>\n",
       "</div>"
      ],
      "text/plain": [
       "   child_mort   exports    health   imports    income  inflation  life_expec  \\\n",
       "0    1.291532 -1.138280  0.279088 -0.082455 -0.808245   0.157336   -1.619092   \n",
       "1   -0.538949 -0.479658 -0.097016  0.070837 -0.375369  -0.312347    0.647866   \n",
       "2   -0.272833 -0.099122 -0.966073 -0.641762 -0.220844   0.789274    0.670423   \n",
       "3    2.007808  0.775381 -1.448071 -0.165315 -0.585043   1.387054   -1.179234   \n",
       "4   -0.695634  0.160668 -0.286894  0.497568  0.101732  -0.601749    0.704258   \n",
       "\n",
       "   total_fer      gdpp  \n",
       "0   1.902882 -0.679180  \n",
       "1  -0.859973 -0.485623  \n",
       "2  -0.038404 -0.465376  \n",
       "3   2.128151 -0.516268  \n",
       "4  -0.541946 -0.041817  "
      ]
     },
     "execution_count": 21,
     "metadata": {},
     "output_type": "execute_result"
    }
   ],
   "source": [
    "scaled_df=pd.DataFrame(scaled,columns=data.columns)\n",
    "\n",
    "# princt scaled dataset\n",
    "scaled_df.head()"
   ]
  },
  {
   "cell_type": "markdown",
   "id": "30ffb92c",
   "metadata": {},
   "source": [
    "# K-Means Clustering"
   ]
  },
  {
   "cell_type": "markdown",
   "id": "03fd4805",
   "metadata": {},
   "source": [
    "Steps\n",
    "\n",
    "1 First we initialize k points called means randomly\n",
    "\n",
    "2 Then we categorize each item to its closest mean and we update the mean's coordinates,which are the averages of the items categorized in the mean so far\n",
    "\n",
    "3 We repeat the process for a given number of iteartions and at the end,we have our clusters\n",
    "\n",
    "To decide how many number of clusters consider we are going to use elbow method"
   ]
  },
  {
   "cell_type": "code",
   "execution_count": 22,
   "id": "b5053829",
   "metadata": {},
   "outputs": [
    {
     "name": "stderr",
     "output_type": "stream",
     "text": [
      "E:\\Program Files\\lib\\site-packages\\sklearn\\cluster\\_kmeans.py:881: UserWarning: KMeans is known to have a memory leak on Windows with MKL, when there are less chunks than available threads. You can avoid it by setting the environment variable OMP_NUM_THREADS=1.\n",
      "  warnings.warn(\n"
     ]
    },
    {
     "data": {
      "image/png": "[encoded data removed]",
      "text/plain": [
       "<Figure size 432x288 with 1 Axes>"
      ]
     },
     "metadata": {
      "needs_background": "light"
     },
     "output_type": "display_data"
    }
   ],
   "source": [
    "a=[]\n",
    "K=range(1,10)\n",
    "for i in K:\n",
    "    kmean=KMeans(n_clusters=i)\n",
    "    kmean.fit(data)\n",
    "    a.append(kmean.inertia_)\n",
    "    \n",
    "plt.plot(K,a,marker='o')\n",
    "plt.title('Elbow Method',fontsize=15)\n",
    "plt.xlabel('Number of clusters',fontsize=15)\n",
    "plt.ylabel('Sum of Squared distance',fontsize=15)\n",
    "plt.show()"
   ]
  },
  {
   "cell_type": "markdown",
   "id": "31534285",
   "metadata": {},
   "source": [
    "As we can see the elbow or a knee like bend is at 3.So choosing 3 as a number of clusters"
   ]
  },
  {
   "cell_type": "code",
   "execution_count": 23,
   "id": "73ed35df",
   "metadata": {},
   "outputs": [
    {
     "data": {
      "text/plain": [
       "KMeans(n_clusters=3, random_state=111)"
      ]
     },
     "execution_count": 23,
     "metadata": {},
     "output_type": "execute_result"
    }
   ],
   "source": [
    "kmeans = KMeans(n_clusters = 3,random_state = 111)\n",
    "kmeans.fit(scaled_df)"
   ]
  },
  {
   "cell_type": "code",
   "execution_count": 24,
   "id": "b413d018",
   "metadata": {},
   "outputs": [
    {
     "data": {
      "text/plain": [
       "2    84\n",
       "0    47\n",
       "1    36\n",
       "dtype: int64"
      ]
     },
     "execution_count": 24,
     "metadata": {},
     "output_type": "execute_result"
    }
   ],
   "source": [
    "pd.Series(kmeans.labels_).value_counts()"
   ]
  },
  {
   "cell_type": "code",
   "execution_count": 25,
   "id": "a0cf4727",
   "metadata": {},
   "outputs": [],
   "source": [
    "#predicting values\n",
    "cluster_labels = kmeans.fit_predict(scaled_df)"
   ]
  },
  {
   "cell_type": "code",
   "execution_count": 26,
   "id": "5861acc9",
   "metadata": {},
   "outputs": [
    {
     "ename": "NameError",
     "evalue": "name 'preds' is not defined",
     "output_type": "error",
     "traceback": [
      "\u001b[1;31m---------------------------------------------------------------------------\u001b[0m",
      "\u001b[1;31mNameError\u001b[0m                                 Traceback (most recent call last)",
      "\u001b[1;32mC:\\Users\\MEHBOO~1\\AppData\\Local\\Temp/ipykernel_6904/1519091603.py\u001b[0m in \u001b[0;36m<module>\u001b[1;34m\u001b[0m\n\u001b[0;32m      1\u001b[0m \u001b[1;31m# preds = kmeans.labels_\u001b[0m\u001b[1;33m\u001b[0m\u001b[1;33m\u001b[0m\u001b[0m\n\u001b[0;32m      2\u001b[0m \u001b[0mkmeans_df\u001b[0m \u001b[1;33m=\u001b[0m \u001b[0mpd\u001b[0m\u001b[1;33m.\u001b[0m\u001b[0mDataFrame\u001b[0m\u001b[1;33m(\u001b[0m\u001b[0mdf1\u001b[0m\u001b[1;33m)\u001b[0m\u001b[1;33m\u001b[0m\u001b[1;33m\u001b[0m\u001b[0m\n\u001b[1;32m----> 3\u001b[1;33m \u001b[0mkmeans_df\u001b[0m\u001b[1;33m[\u001b[0m\u001b[1;34m'KMeans_Clusters'\u001b[0m\u001b[1;33m]\u001b[0m \u001b[1;33m=\u001b[0m \u001b[0mpreds\u001b[0m\u001b[1;33m\u001b[0m\u001b[1;33m\u001b[0m\u001b[0m\n\u001b[0m\u001b[0;32m      4\u001b[0m \u001b[0mkmeans_df\u001b[0m\u001b[1;33m.\u001b[0m\u001b[0mhead\u001b[0m\u001b[1;33m(\u001b[0m\u001b[1;36m10\u001b[0m\u001b[1;33m)\u001b[0m\u001b[1;33m\u001b[0m\u001b[1;33m\u001b[0m\u001b[0m\n",
      "\u001b[1;31mNameError\u001b[0m: name 'preds' is not defined"
     ]
    }
   ],
   "source": [
    "# preds = kmeans.labels_\n",
    "kmeans_df = pd.DataFrame(df1)\n",
    "kmeans_df['KMeans_Clusters'] = preds\n",
    "kmeans_df.head(10)"
   ]
  },
  {
   "cell_type": "code",
   "execution_count": null,
   "id": "4fb2e68a",
   "metadata": {},
   "outputs": [],
   "source": [
    "#save a kmeans file\n",
    "kmeans_df.to_csv('kmeans_result.csv',index=False)"
   ]
  },
  {
   "cell_type": "markdown",
   "id": "b581705a",
   "metadata": {},
   "source": [
    "# Visualization of clusters"
   ]
  },
  {
   "cell_type": "code",
   "execution_count": null,
   "id": "cd585f32",
   "metadata": {},
   "outputs": [],
   "source": [
    "#visulization of clusters child mortality vs gdpp\n",
    "sns.scatterplot(kmeans_df['child_mort'],kmeans_df['gdpp'],hue='KMeans_Clusters',data=kmeans_df) \n",
    "plt.title(\"Child Mortality vs gdpp\", fontsize=15)\n",
    "plt.xlabel(\"Child Mortality\", fontsize=12)\n",
    "plt.ylabel(\"gdpp\", fontsize=12)\n",
    "plt.show()"
   ]
  },
  {
   "cell_type": "code",
   "execution_count": null,
   "id": "14ae3aa2",
   "metadata": {},
   "outputs": [],
   "source": [
    "#visulization of clusters inflation vs gdpp\n",
    "sns.scatterplot(kmeans_df['inflation'],kmeans_df['gdpp'],hue='KMeans_Clusters',data=kmeans_df) \n",
    "plt.title(\"inflation vs gdpp\", fontsize=15)\n",
    "plt.xlabel(\"inflation\", fontsize=12)\n",
    "plt.ylabel(\"gdpp\", fontsize=12)\n",
    "plt.show()"
   ]
  },
  {
   "cell_type": "markdown",
   "id": "eb824b6b",
   "metadata": {},
   "source": [
    "From above two clusters graph we can conclude that\n",
    "\n",
    "1 Country having high child-mortality, low GDP per catia and low inflation is a under-developing country\n",
    "\n",
    "2 Country having low child-mortality, high gdpp and high infaltion is the developed country\n",
    "\n",
    "So here we conclude that\n",
    "\n",
    "0 = under-developing country\n",
    "\n",
    "2 = developing country\n",
    "\n",
    "1 = developed country"
   ]
  },
  {
   "cell_type": "code",
   "execution_count": null,
   "id": "123193d1",
   "metadata": {},
   "outputs": [],
   "source": [
    "#find number of developed country,developing country,under-developed country\n",
    "under_developing=kmeans_df[kmeans_df['KMeans_Clusters']==0]['country']\n",
    "developed=kmeans_df[kmeans_df['KMeans_Clusters']==1]['country']\n",
    "developing=kmeans_df[kmeans_df['KMeans_Clusters']==2]['country']\n",
    "\n",
    "\n",
    "print(\"Number of deveoped countries\",len(under_developing))\n",
    "print(\"Number of developing countries\",len(developing))\n",
    "print(\"Number of under-developing countries\",len(developed))"
   ]
  },
  {
   "cell_type": "code",
   "execution_count": null,
   "id": "3722e52c",
   "metadata": {},
   "outputs": [],
   "source": [
    "#list of developed countries\n",
    "list(developed)"
   ]
  },
  {
   "cell_type": "markdown",
   "id": "0c911b4c",
   "metadata": {},
   "source": [
    "Let's check that is Pakistan is present in developing countries list"
   ]
  },
  {
   "cell_type": "code",
   "execution_count": null,
   "id": "b655896c",
   "metadata": {},
   "outputs": [],
   "source": [
    "flag=0\n",
    "for i in developing:\n",
    "    if i == 'Pakistan':\n",
    "        flag=1\n",
    "        break\n",
    "if flag == 1:\n",
    "    print('Yes Pakistan is present in developing countries list')\n",
    "else:\n",
    "    print('No Pakistan is not present in developing countries list')"
   ]
  },
  {
   "cell_type": "markdown",
   "id": "88585392",
   "metadata": {},
   "source": [
    "# Hierarchical Clustering"
   ]
  },
  {
   "cell_type": "code",
   "execution_count": null,
   "id": "069c88ab",
   "metadata": {},
   "outputs": [],
   "source": [
    "#plotting dendogram\n",
    "plt.figure(figsize=(50, 12))\n",
    "dend=hcluster.dendrogram(hcluster.linkage(scaled_df,method='ward'))"
   ]
  },
  {
   "cell_type": "markdown",
   "id": "cbf5f798",
   "metadata": {},
   "source": [
    "From above dendogram we can take minimum no of clusters as 2 and maximum number of cluster as 5.As we can see from dendogram 3 is the right no of clusters, so we are going to take 3 no of clusters"
   ]
  },
  {
   "cell_type": "code",
   "execution_count": null,
   "id": "166baa70",
   "metadata": {},
   "outputs": [],
   "source": [
    "# Getting labels from Agglomearative Hierarchical clustering\n",
    "hcluster = AgglomerativeClustering(n_clusters=3, affinity='euclidean', linkage='ward')  \n",
    "hcluster.fit_predict(scaled_df)\n",
    "hcluster_label = hcluster.labels_"
   ]
  },
  {
   "cell_type": "code",
   "execution_count": null,
   "id": "6cab0fb4",
   "metadata": {},
   "outputs": [],
   "source": [
    "hcluster_df = pd.DataFrame(df1)\n",
    "#adding hcluster labels in hcluster_df\n",
    "hcluster_df['hcluster'] = hcluster_label\n",
    "#first few rows of hcluster_df\n",
    "hcluster_df.head()"
   ]
  },
  {
   "cell_type": "markdown",
   "id": "4c1b42de",
   "metadata": {},
   "source": [
    "# Visualization hcluster"
   ]
  },
  {
   "cell_type": "code",
   "execution_count": null,
   "id": "2bb90e1d",
   "metadata": {},
   "outputs": [],
   "source": [
    "#visulazing hcluster results\n",
    "#child mortality vs exports \n",
    "sns.scatterplot(hcluster_df['child_mort'],hcluster_df['gdpp'],hue='hcluster',data=hcluster_df)\n",
    "plt.title(\"Child Mortality vs gdpp\", fontsize=15)\n",
    "plt.xlabel(\"Child Mortality\", fontsize=12)\n",
    "plt.ylabel(\"gdpp\", fontsize=12)\n",
    "plt.show()"
   ]
  },
  {
   "cell_type": "code",
   "execution_count": null,
   "id": "c5cf517b",
   "metadata": {},
   "outputs": [],
   "source": [
    "#visulazing hcluster results\n",
    "sns.scatterplot(hcluster_df['inflation'],hcluster_df['gdpp'],hue='hcluster',data=hcluster_df)\n",
    "plt.title(\"Inflation vs gdpp\", fontsize=15)\n",
    "plt.xlabel(\"Inflation\", fontsize=12)\n",
    "plt.ylabel(\"gdpp\", fontsize=12)\n",
    "plt.show()"
   ]
  },
  {
   "cell_type": "markdown",
   "id": "68c3c44e",
   "metadata": {},
   "source": [
    "From above we can conclude that:\n",
    "\n",
    "0 = developed country\n",
    "\n",
    "1 = developing country\n",
    "\n",
    "2 = under-developing country"
   ]
  },
  {
   "cell_type": "code",
   "execution_count": null,
   "id": "c7ef1ca2",
   "metadata": {},
   "outputs": [],
   "source": [
    "#find number of developed country,developing country,under-developed country\n",
    "developed=hcluster_df[hcluster_df['hcluster']==0]['country']\n",
    "developing=hcluster_df[hcluster_df['hcluster']==1]['country']\n",
    "under_developing=hcluster_df[hcluster_df['hcluster']==2]['country']\n",
    "\n",
    "print(\"Number of developed countries\",len(developed))\n",
    "print(\"Number of developing countries\",len(developing))\n",
    "print(\"Number of under-developing countries\",len(under_developing))"
   ]
  },
  {
   "cell_type": "code",
   "execution_count": null,
   "id": "7c2295be",
   "metadata": {},
   "outputs": [],
   "source": [
    "list(developed)"
   ]
  },
  {
   "cell_type": "code",
   "execution_count": null,
   "id": "787d7ca5",
   "metadata": {},
   "outputs": [],
   "source": []
  }
 ],
 "metadata": {
  "kernelspec": {
   "display_name": "Python 3 (ipykernel)",
   "language": "python",
   "name": "python3"
  },
  "language_info": {
   "codemirror_mode": {
    "name": "ipython",
    "version": 3
   },
   "file_extension": ".py",
   "mimetype": "text/x-python",
   "name": "python",
   "nbconvert_exporter": "python",
   "pygments_lexer": "ipython3",
   "version": "3.9.7"
  }
 },
 "nbformat": 4,
 "nbformat_minor": 5
}
